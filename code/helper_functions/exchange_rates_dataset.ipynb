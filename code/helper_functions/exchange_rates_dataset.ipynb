{
 "cells": [
  {
   "cell_type": "code",
   "execution_count": 1,
   "metadata": {},
   "outputs": [],
   "source": [
    "import requests\n",
    "import pandas as pd\n",
    "import numpy as np"
   ]
  },
  {
   "cell_type": "code",
   "execution_count": 2,
   "metadata": {},
   "outputs": [],
   "source": [
    "# Added the currencies of the countries studied as well as all the currencies of EU and some major world currencies which may appear in the data\n",
    "currencies = ['GBP', 'EUR', 'BGN', 'CZK', 'DKK', 'HUF', 'PLN', 'RON', 'SEK', 'TRY', 'RUB', 'ARS', 'ISK', 'CHF', 'JPY', 'NOK', 'PKR', 'AUD', 'QAR']\n",
    "\n",
    "# The result of this will be a set of dataframes stored in a dict\n",
    "df_dict = {}\n",
    "\n",
    "# The currency we would like to convert everything to\n",
    "base = \"USD\"\n",
    "\n",
    "for currency in currencies:\n",
    "    \n",
    "    # Storing each currency in a separate dataframe\n",
    "    df = pd.DataFrame(columns=[\"Date\", currency])\n",
    "\n",
    "    # API only allows to receive one year at the time\n",
    "    # Generating a year for request\n",
    "    for year in range(2016, 2024):\n",
    "        start_date = f\"{year}-01-01\"\n",
    "        if year != 2023:\n",
    "            end_date = f\"{year}-12-31\"\n",
    "        else:\n",
    "            end_date = \"2023-05-01\"\n",
    "    \n",
    "        url = 'https://api.exchangerate.host/timeseries?base={0}&start_date={1}&end_date={2}&symbols={3}'.format(base,start_date,end_date,currency)\n",
    "        \n",
    "        response = requests.get(url)\n",
    "\n",
    "        # We recieve json as response output\n",
    "        # We need to convert it to dataframe\n",
    "        data = response.json()\n",
    "\n",
    "        rates=[]\n",
    "\n",
    "        # For some currencies missing data may be present. It will not have an impact due to limited use of such currencies in the data\n",
    "        for i,j in data[\"rates\"].items():\n",
    "            if currency in j.keys():\n",
    "                rates.append([i, j[currency]])\n",
    "            else:\n",
    "                rates.append([i, np.nan])\n",
    "\n",
    "        df_year = pd.DataFrame(rates, columns=[\"Date\", currency])\n",
    "        \n",
    "        # \n",
    "        df = pd.concat([df, df_year])\n",
    "\n",
    "    df_dict[currency] = df\n",
    "        "
   ]
  },
  {
   "cell_type": "code",
   "execution_count": 10,
   "metadata": {},
   "outputs": [],
   "source": [
    "# Adding all dict dataframes into a single wide dataframe\n",
    "final_df = df_dict[\"GBP\"]\n",
    "\n",
    "for currency in currencies[1:]:\n",
    "    final_df = pd.merge(final_df, df_dict[currency], on=\"Date\", how=\"outer\")"
   ]
  },
  {
   "cell_type": "code",
   "execution_count": 12,
   "metadata": {},
   "outputs": [],
   "source": [
    "final_df.to_csv(\"exchange_rates.csv\", index=False)"
   ]
  }
 ],
 "metadata": {
  "kernelspec": {
   "display_name": "Python 3",
   "language": "python",
   "name": "python3"
  },
  "language_info": {
   "codemirror_mode": {
    "name": "ipython",
    "version": 3
   },
   "file_extension": ".py",
   "mimetype": "text/x-python",
   "name": "python",
   "nbconvert_exporter": "python",
   "pygments_lexer": "ipython3",
   "version": "3.10.10"
  },
  "orig_nbformat": 4
 },
 "nbformat": 4,
 "nbformat_minor": 2
}
